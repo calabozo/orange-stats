{
 "cells": [
  {
   "cell_type": "code",
   "execution_count": 1,
   "metadata": {},
   "outputs": [],
   "source": [
    "# Librerías manejo de datos\n",
    "import numpy as np\n",
    "import pandas as pd\n",
    "\n",
    "# Librerías de gráficos\n",
    "import matplotlib.pyplot as plt\n",
    "import seaborn as sns"
   ]
  },
  {
   "cell_type": "markdown",
   "metadata": {},
   "source": [
    "## Carga de datos y ETL\n",
    "\n",
    "Vamos a cargar un dataset sobre el peso de los niños al nacer.\n"
   ]
  },
  {
   "cell_type": "code",
   "execution_count": 2,
   "metadata": {},
   "outputs": [],
   "source": [
    "birth_weight = pd.read_csv('birthweight.csv')"
   ]
  },
  {
   "cell_type": "code",
   "execution_count": 3,
   "metadata": {},
   "outputs": [
    {
     "data": {
      "text/html": [
       "<div>\n",
       "<style scoped>\n",
       "    .dataframe tbody tr th:only-of-type {\n",
       "        vertical-align: middle;\n",
       "    }\n",
       "\n",
       "    .dataframe tbody tr th {\n",
       "        vertical-align: top;\n",
       "    }\n",
       "\n",
       "    .dataframe thead th {\n",
       "        text-align: right;\n",
       "    }\n",
       "</style>\n",
       "<table border=\"1\" class=\"dataframe\">\n",
       "  <thead>\n",
       "    <tr style=\"text-align: right;\">\n",
       "      <th></th>\n",
       "      <th>id</th>\n",
       "      <th>headcirumference</th>\n",
       "      <th>length</th>\n",
       "      <th>Birthweight</th>\n",
       "      <th>Gestation</th>\n",
       "      <th>smoker</th>\n",
       "      <th>motherage</th>\n",
       "      <th>mnocig</th>\n",
       "      <th>mheight</th>\n",
       "      <th>mppwt</th>\n",
       "      <th>fage</th>\n",
       "      <th>fedyrs</th>\n",
       "      <th>fnocig</th>\n",
       "      <th>fheight</th>\n",
       "      <th>lowbwt</th>\n",
       "      <th>mage35</th>\n",
       "      <th>LowBirthWeight</th>\n",
       "    </tr>\n",
       "  </thead>\n",
       "  <tbody>\n",
       "    <tr>\n",
       "      <th>0</th>\n",
       "      <td>1313</td>\n",
       "      <td>12</td>\n",
       "      <td>17</td>\n",
       "      <td>5.8</td>\n",
       "      <td>33</td>\n",
       "      <td>0</td>\n",
       "      <td>24</td>\n",
       "      <td>0</td>\n",
       "      <td>58</td>\n",
       "      <td>99</td>\n",
       "      <td>26</td>\n",
       "      <td>16</td>\n",
       "      <td>0</td>\n",
       "      <td>66</td>\n",
       "      <td>1</td>\n",
       "      <td>0</td>\n",
       "      <td>Low</td>\n",
       "    </tr>\n",
       "    <tr>\n",
       "      <th>1</th>\n",
       "      <td>431</td>\n",
       "      <td>12</td>\n",
       "      <td>19</td>\n",
       "      <td>4.2</td>\n",
       "      <td>33</td>\n",
       "      <td>1</td>\n",
       "      <td>20</td>\n",
       "      <td>7</td>\n",
       "      <td>63</td>\n",
       "      <td>109</td>\n",
       "      <td>20</td>\n",
       "      <td>10</td>\n",
       "      <td>35</td>\n",
       "      <td>71</td>\n",
       "      <td>1</td>\n",
       "      <td>0</td>\n",
       "      <td>Low</td>\n",
       "    </tr>\n",
       "    <tr>\n",
       "      <th>2</th>\n",
       "      <td>808</td>\n",
       "      <td>13</td>\n",
       "      <td>19</td>\n",
       "      <td>6.4</td>\n",
       "      <td>34</td>\n",
       "      <td>0</td>\n",
       "      <td>26</td>\n",
       "      <td>0</td>\n",
       "      <td>65</td>\n",
       "      <td>140</td>\n",
       "      <td>25</td>\n",
       "      <td>12</td>\n",
       "      <td>25</td>\n",
       "      <td>69</td>\n",
       "      <td>0</td>\n",
       "      <td>0</td>\n",
       "      <td>Normal</td>\n",
       "    </tr>\n",
       "    <tr>\n",
       "      <th>3</th>\n",
       "      <td>300</td>\n",
       "      <td>12</td>\n",
       "      <td>18</td>\n",
       "      <td>4.5</td>\n",
       "      <td>35</td>\n",
       "      <td>1</td>\n",
       "      <td>41</td>\n",
       "      <td>7</td>\n",
       "      <td>65</td>\n",
       "      <td>125</td>\n",
       "      <td>37</td>\n",
       "      <td>14</td>\n",
       "      <td>25</td>\n",
       "      <td>68</td>\n",
       "      <td>1</td>\n",
       "      <td>1</td>\n",
       "      <td>Low</td>\n",
       "    </tr>\n",
       "    <tr>\n",
       "      <th>4</th>\n",
       "      <td>516</td>\n",
       "      <td>13</td>\n",
       "      <td>18</td>\n",
       "      <td>5.8</td>\n",
       "      <td>35</td>\n",
       "      <td>1</td>\n",
       "      <td>20</td>\n",
       "      <td>35</td>\n",
       "      <td>67</td>\n",
       "      <td>125</td>\n",
       "      <td>23</td>\n",
       "      <td>12</td>\n",
       "      <td>50</td>\n",
       "      <td>73</td>\n",
       "      <td>1</td>\n",
       "      <td>0</td>\n",
       "      <td>Low</td>\n",
       "    </tr>\n",
       "  </tbody>\n",
       "</table>\n",
       "</div>"
      ],
      "text/plain": [
       "     id  headcirumference  length  Birthweight  Gestation  smoker  motherage  \\\n",
       "0  1313                12      17          5.8         33       0         24   \n",
       "1   431                12      19          4.2         33       1         20   \n",
       "2   808                13      19          6.4         34       0         26   \n",
       "3   300                12      18          4.5         35       1         41   \n",
       "4   516                13      18          5.8         35       1         20   \n",
       "\n",
       "   mnocig  mheight  mppwt  fage  fedyrs  fnocig  fheight  lowbwt  mage35  \\\n",
       "0       0       58     99    26      16       0       66       1       0   \n",
       "1       7       63    109    20      10      35       71       1       0   \n",
       "2       0       65    140    25      12      25       69       0       0   \n",
       "3       7       65    125    37      14      25       68       1       1   \n",
       "4      35       67    125    23      12      50       73       1       0   \n",
       "\n",
       "  LowBirthWeight  \n",
       "0            Low  \n",
       "1            Low  \n",
       "2         Normal  \n",
       "3            Low  \n",
       "4            Low  "
      ]
     },
     "execution_count": 3,
     "metadata": {},
     "output_type": "execute_result"
    }
   ],
   "source": [
    "birth_weight.head()"
   ]
  },
  {
   "cell_type": "code",
   "execution_count": 4,
   "metadata": {},
   "outputs": [],
   "source": [
    "birth_weight[\"Birthweight_kg\"]=birth_weight[\"Birthweight\"]*0.453592"
   ]
  },
  {
   "cell_type": "markdown",
   "metadata": {},
   "source": [
    "### Media\n",
    "\n",
    "\\\\[ \\mu_{x} = E[x] =  \\frac{1}{N} \\sum _{i=1}^N x_i\\\\]\n",
    "\n",
    "Rellenar con formula y texto"
   ]
  },
  {
   "cell_type": "code",
   "execution_count": 5,
   "metadata": {},
   "outputs": [
    {
     "data": {
      "text/plain": [
       "3.2950218857142866"
      ]
     },
     "execution_count": 5,
     "metadata": {},
     "output_type": "execute_result"
    }
   ],
   "source": [
    "def mean(vector):\n",
    "    m = 0\n",
    "    for val in vector:\n",
    "        m = val+m\n",
    "    m = m/len(vector)\n",
    "    return m\n",
    "mean(birth_weight[\"Birthweight_kg\"])"
   ]
  },
  {
   "cell_type": "code",
   "execution_count": 6,
   "metadata": {},
   "outputs": [
    {
     "data": {
      "text/plain": [
       "3.295021885714286"
      ]
     },
     "execution_count": 6,
     "metadata": {},
     "output_type": "execute_result"
    }
   ],
   "source": [
    "np.mean(birth_weight[\"Birthweight_kg\"])"
   ]
  },
  {
   "cell_type": "markdown",
   "metadata": {},
   "source": [
    "### Varianza\n",
    "\n",
    "Es la esperanza del cuadrado de la desviación de dicha variable respecto a su media. Otra definición es la media de los residuos al cuadrado.\n",
    "\n",
    "Su formula es:\n",
    "\n",
    "\\\\[ Var[x] =  \\frac{1}{N} \\sum _{i=1}^N \\left( x_i-\\bar{x} \\right)^2 \\\\]\n",
    "\n",
    "Pero como no sabremos $\\bar{x}$ sino que siempre tendremoso que estimar la media E[x] la formula del estimador insesgado de la varianza para una muestra de la población es:\n",
    "\n",
    "\\\\[ Var[x] =  \\frac{1}{N-1} \\sum _{i=1}^N \\left( x_i-E[x] \\right)^2 \\\\]\n"
   ]
  },
  {
   "cell_type": "code",
   "execution_count": 7,
   "metadata": {},
   "outputs": [
    {
     "data": {
      "text/plain": [
       "0.363800698111214"
      ]
     },
     "execution_count": 7,
     "metadata": {},
     "output_type": "execute_result"
    }
   ],
   "source": [
    "def var(vector):\n",
    "    m = mean(vector)\n",
    "    v = 0\n",
    "    for val in vector:\n",
    "        v = (val-m)**2 + v\n",
    "    v = v/(len(vector)-1)\n",
    "    return v\n",
    "var(birth_weight[\"Birthweight_kg\"])"
   ]
  },
  {
   "cell_type": "code",
   "execution_count": 8,
   "metadata": {},
   "outputs": [
    {
     "data": {
      "text/plain": [
       "0.36380069811121396"
      ]
     },
     "execution_count": 8,
     "metadata": {},
     "output_type": "execute_result"
    }
   ],
   "source": [
    "np.var(birth_weight[\"Birthweight_kg\"],ddof=1)"
   ]
  },
  {
   "cell_type": "markdown",
   "metadata": {},
   "source": [
    "### Mediana\n",
    "\n",
    "La mediana es el valor de una distribución tal que la mitad de los elementos son superiores y la mitad son inferiores."
   ]
  },
  {
   "cell_type": "code",
   "execution_count": 9,
   "metadata": {},
   "outputs": [
    {
     "name": "stdout",
     "output_type": "stream",
     "text": [
      "3.25\n",
      "3\n"
     ]
    }
   ],
   "source": [
    "def median(vector: pd.Series) -> float:\n",
    "    vector = vector.sort_values()\n",
    "    idx=(len(vector)-1)/2\n",
    "    if idx==int(idx):\n",
    "        return vector.iloc[int(idx)]\n",
    "    else:\n",
    "        return (vector.iloc[int(np.floor(idx))]+vector.iloc[int(np.ceil(idx))])/2\n",
    "    \n",
    "print(median(pd.Series([1,2,3,3.5,4,6])))\n",
    "print(median(pd.Series([1,2,3,4,6])))\n"
   ]
  },
  {
   "cell_type": "code",
   "execution_count": 10,
   "metadata": {},
   "outputs": [
    {
     "data": {
      "text/plain": [
       "3.288542"
      ]
     },
     "execution_count": 10,
     "metadata": {},
     "output_type": "execute_result"
    }
   ],
   "source": [
    "median(birth_weight[\"Birthweight_kg\"])"
   ]
  },
  {
   "cell_type": "code",
   "execution_count": 11,
   "metadata": {},
   "outputs": [
    {
     "data": {
      "text/plain": [
       "3.288542"
      ]
     },
     "execution_count": 11,
     "metadata": {},
     "output_type": "execute_result"
    }
   ],
   "source": [
    "np.median(birth_weight[\"Birthweight_kg\"])"
   ]
  },
  {
   "cell_type": "markdown",
   "metadata": {},
   "source": [
    "### Cuantiles\n",
    "\n",
    "Los cuantiles suelen usarse por grupos que dividen la distribución en partes iguales; entendidas estas como intervalos que comprenden la misma proporción de valores. Los más usados son:\n",
    "\n",
    "* Los cuartiles, que dividen a la distribución en cuatro partes (corresponden a los cuantiles 0,25; 0,50 y 0,75);\n",
    "* Los quintiles, que dividen a la distribución en cinco partes (corresponden a los cuantiles 0,20; 0,40; 0,60 y 0,80);\n",
    "* Los deciles, que dividen a la distribución en diez partes;\n",
    "* Los percentiles, que dividen a la distribución en cien partes.\n"
   ]
  },
  {
   "cell_type": "code",
   "execution_count": 12,
   "metadata": {},
   "outputs": [
    {
     "data": {
      "text/plain": [
       "array([2.9256684, 3.288542 , 3.628736 ])"
      ]
     },
     "execution_count": 12,
     "metadata": {},
     "output_type": "execute_result"
    }
   ],
   "source": [
    "np.quantile(birth_weight[\"Birthweight_kg\"],[0.25,0.5,0.75])"
   ]
  },
  {
   "cell_type": "markdown",
   "metadata": {},
   "source": [
    "### Boxplot"
   ]
  },
  {
   "cell_type": "code",
   "execution_count": 13,
   "metadata": {},
   "outputs": [
    {
     "data": {
      "text/plain": [
       "<AxesSubplot:xlabel='Birthweight_kg'>"
      ]
     },
     "execution_count": 13,
     "metadata": {},
     "output_type": "execute_result"
    },
    {
     "data": {
      "image/png": "[encoded data removed]",
      "text/plain": [
       "<Figure size 432x288 with 1 Axes>"
      ]
     },
     "metadata": {
      "needs_background": "light"
     },
     "output_type": "display_data"
    }
   ],
   "source": [
    "sns.boxplot(x=birth_weight[\"Birthweight_kg\"])"
   ]
  },
  {
   "cell_type": "markdown",
   "metadata": {},
   "source": [
    "### Histograma"
   ]
  },
  {
   "cell_type": "code",
   "execution_count": 14,
   "metadata": {},
   "outputs": [
    {
     "data": {
      "text/plain": [
       "<matplotlib.legend.Legend at 0x7fb6bff9be10>"
      ]
     },
     "execution_count": 14,
     "metadata": {},
     "output_type": "execute_result"
    },
    {
     "data": {
      "image/png": "[encoded data removed]",
      "text/plain": [
       "<Figure size 432x288 with 1 Axes>"
      ]
     },
     "metadata": {
      "needs_background": "light"
     },
     "output_type": "display_data"
    }
   ],
   "source": [
    "sns.histplot(birth_weight[\"Birthweight_kg\"], binwidth=0.5,label=\"0.5 binwidth\")\n",
    "sns.histplot(birth_weight[\"Birthweight_kg\"], bins=20,color=\"red\",label=\"20 bins\")\n",
    "plt.xlabel(\"Weight [kg]\")\n",
    "plt.legend()"
   ]
  },
  {
   "cell_type": "markdown",
   "metadata": {},
   "source": [
    "### Curva de densidad (kernel density estimation)"
   ]
  },
  {
   "cell_type": "code",
   "execution_count": 15,
   "metadata": {},
   "outputs": [
    {
     "data": {
      "text/plain": [
       "<matplotlib.legend.Legend at 0x7fb6bfeb75f8>"
      ]
     },
     "execution_count": 15,
     "metadata": {},
     "output_type": "execute_result"
    },
    {
     "data": {
      "image/png": "[encoded data removed]",
      "text/plain": [
       "<Figure size 432x288 with 1 Axes>"
      ]
     },
     "metadata": {
      "needs_background": "light"
     },
     "output_type": "display_data"
    }
   ],
   "source": [
    "sns.kdeplot(birth_weight[\"Birthweight_kg\"], bw_adjust=0.5,label=\"bw_adjust=0.5\")\n",
    "sns.kdeplot(birth_weight[\"Birthweight_kg\"], bw_adjust=2,color=\"red\",label=\"bw_adjust=1\")\n",
    "plt.xlabel(\"Weight [kg]\")\n",
    "plt.legend()"
   ]
  },
  {
   "cell_type": "markdown",
   "metadata": {},
   "source": [
    "### Violin plot"
   ]
  },
  {
   "cell_type": "code",
   "execution_count": 16,
   "metadata": {},
   "outputs": [
    {
     "data": {
      "text/plain": [
       "<AxesSubplot:xlabel='Birthweight_kg'>"
      ]
     },
     "execution_count": 16,
     "metadata": {},
     "output_type": "execute_result"
    },
    {
     "data": {
      "image/png": "[encoded data removed]",
      "text/plain": [
       "<Figure size 432x288 with 1 Axes>"
      ]
     },
     "metadata": {
      "needs_background": "light"
     },
     "output_type": "display_data"
    }
   ],
   "source": [
    "sns.violinplot(data=birth_weight,x=\"Birthweight_kg\")"
   ]
  },
  {
   "cell_type": "markdown",
   "metadata": {},
   "source": [
    "# Tests estadísticos\n",
    "\n",
    "¿Es la media de estas dos poblaciones iguales?"
   ]
  },
  {
   "cell_type": "code",
   "execution_count": 17,
   "metadata": {},
   "outputs": [],
   "source": [
    "weight_NO_smoke = birth_weight.loc[birth_weight[\"smoker\"]==0,\"Birthweight_kg\"]\n",
    "weight_YES_smoke = birth_weight.loc[birth_weight[\"smoker\"]==1,\"Birthweight_kg\"]"
   ]
  },
  {
   "cell_type": "code",
   "execution_count": 18,
   "metadata": {},
   "outputs": [
    {
     "data": {
      "text/plain": [
       "count    20.000000\n",
       "mean      3.488122\n",
       "std       0.520701\n",
       "min       2.630834\n",
       "25%       3.118445\n",
       "50%       3.356581\n",
       "75%       3.900891\n",
       "max       4.535920\n",
       "Name: Birthweight_kg, dtype: float64"
      ]
     },
     "execution_count": 18,
     "metadata": {},
     "output_type": "execute_result"
    }
   ],
   "source": [
    "weight_NO_smoke.describe()"
   ]
  },
  {
   "cell_type": "code",
   "execution_count": 19,
   "metadata": {},
   "outputs": [
    {
     "data": {
      "text/plain": [
       "count    22.000000\n",
       "mean      3.119476\n",
       "std       0.630217\n",
       "min       1.905086\n",
       "25%       2.721552\n",
       "50%       3.175144\n",
       "75%       3.526678\n",
       "max       4.535920\n",
       "Name: Birthweight_kg, dtype: float64"
      ]
     },
     "execution_count": 19,
     "metadata": {},
     "output_type": "execute_result"
    }
   ],
   "source": [
    "weight_YES_smoke.describe()"
   ]
  },
  {
   "cell_type": "code",
   "execution_count": 20,
   "metadata": {},
   "outputs": [
    {
     "data": {
      "text/plain": [
       "<matplotlib.legend.Legend at 0x7fb6bdd9e1d0>"
      ]
     },
     "execution_count": 20,
     "metadata": {},
     "output_type": "execute_result"
    },
    {
     "data": {
      "image/png": "[encoded data removed]",
      "text/plain": [
       "<Figure size 432x288 with 1 Axes>"
      ]
     },
     "metadata": {
      "needs_background": "light"
     },
     "output_type": "display_data"
    }
   ],
   "source": [
    "sns.kdeplot(weight_NO_smoke,label=\"No fumadora\")\n",
    "sns.kdeplot(weight_YES_smoke,color=\"red\",label=\"Fumadora\")\n",
    "plt.xlabel(\"Weight [kg]\")\n",
    "plt.legend()"
   ]
  },
  {
   "cell_type": "code",
   "execution_count": 21,
   "metadata": {},
   "outputs": [
    {
     "name": "stdout",
     "output_type": "stream",
     "text": [
      "La diferencia de medias NO_smoker-YES_smoker es:0.37\n",
      "La diferencia de medias YES_smoker-NO_smoker es:-0.37\n"
     ]
    }
   ],
   "source": [
    "diff_NO_YES=np.mean(weight_NO_smoke.values)-np.mean(weight_YES_smoke.values)\n",
    "diff_YES_NO=np.mean(weight_YES_smoke.values)-np.mean(weight_NO_smoke.values)\n",
    "print(f\"La diferencia de medias NO_smoker-YES_smoker es:{np.round(diff_NO_YES,2)}\")\n",
    "print(f\"La diferencia de medias YES_smoker-NO_smoker es:{np.round(diff_YES_NO,2)}\")"
   ]
  },
  {
   "cell_type": "markdown",
   "metadata": {},
   "source": [
    "¿Cómo de probable es que estos cambios hayan ocurrido al azar?"
   ]
  },
  {
   "cell_type": "code",
   "execution_count": 22,
   "metadata": {},
   "outputs": [],
   "source": [
    "\n",
    "X1=weight_NO_smoke\n",
    "X2=weight_YES_smoke\n",
    "\n",
    "def perm_func(X1: pd.Series, X2:pd.Series) -> (pd.Series,pd.Series): \n",
    "    X = X1.append(X2).reset_index(drop=True)\n",
    "\n",
    "    X1_reorder=X.sample(frac=0.5)\n",
    "    X2_reorder=X.drop(X1_reorder.index)\n",
    "    return (X1_reorder.reset_index(drop=True),X2_reorder.reset_index(drop=True))\n",
    "\n",
    "X1_reorder, X2_reorder= perm_func(weight_NO_smoke,weight_YES_smoke)"
   ]
  },
  {
   "cell_type": "code",
   "execution_count": 23,
   "metadata": {},
   "outputs": [],
   "source": [
    "mean_values = []\n",
    "num_mean_X1_larger_X2 = 0\n",
    "num_mean_X2_larger_X1 = 0\n",
    "\n",
    "total_trials = 10000\n",
    "for i in range(total_trials):\n",
    "    X1_reorder, X2_reorder= perm_func(weight_NO_smoke,weight_YES_smoke)\n",
    "    \n",
    "    mean_diff = np.mean(X1_reorder.values) - np.mean(X2_reorder.values)\n",
    "    mean_values.append(mean_diff)\n",
    "    \n",
    "    if mean_diff>diff_NO_YES:\n",
    "        num_mean_X1_larger_X2 += 1\n",
    "    \n",
    "    if mean_diff<diff_YES_NO:\n",
    "        num_mean_X2_larger_X1 += 1\n",
    "    \n"
   ]
  },
  {
   "cell_type": "code",
   "execution_count": 24,
   "metadata": {},
   "outputs": [
    {
     "name": "stdout",
     "output_type": "stream",
     "text": [
      "La probabilidad por puro azar la media de X1 menos X2 sea mayor que la diferencia original: \n",
      "    2.21%\n",
      "La probabilidad por puro azar la media de X1 menos X2 sea menor que la diferencia original: \n",
      "    2.58%\n",
      "La probabilidad de que por puro azar los valores de NO_smoker y YES_smoker se hayan reordenado\n",
      "para dar diferencias tan grandes es:4.79%\n"
     ]
    }
   ],
   "source": [
    "print(f\"\"\"La probabilidad por puro azar la media de X1 menos X2 sea mayor que la diferencia original: \n",
    "    {np.round(num_mean_X1_larger_X2/total_trials*100,2)}%\"\"\")\n",
    "\n",
    "print(f\"\"\"La probabilidad por puro azar la media de X1 menos X2 sea menor que la diferencia original: \n",
    "    {np.round(num_mean_X2_larger_X1/total_trials*100,2)}%\"\"\")\n",
    "\n",
    "print(f\"\"\"La probabilidad de que por puro azar los valores de NO_smoker y YES_smoker se hayan reordenado\n",
    "para dar diferencias tan grandes es:{np.round((num_mean_X2_larger_X1+num_mean_X1_larger_X2)/total_trials*100,2)}%\"\"\")"
   ]
  },
  {
   "cell_type": "code",
   "execution_count": 25,
   "metadata": {},
   "outputs": [
    {
     "data": {
      "text/plain": [
       "[<matplotlib.lines.Line2D at 0x7fb6bdcf29b0>]"
      ]
     },
     "execution_count": 25,
     "metadata": {},
     "output_type": "execute_result"
    },
    {
     "data": {
      "image/png": "[encoded data removed]",
      "text/plain": [
       "<Figure size 432x288 with 1 Axes>"
      ]
     },
     "metadata": {
      "needs_background": "light"
     },
     "output_type": "display_data"
    }
   ],
   "source": [
    "from scipy.stats import norm\n",
    "\n",
    "#sns.displot(mean_values)\n",
    "sns.kdeplot(mean_values)\n",
    "plt.axvline(diff_NO_YES, 0,2,color=\"#FF0000\")\n",
    "plt.axvline(diff_YES_NO, 0,2,color=\"#FF0000\")\n",
    "x=np.linspace(-1, 1, 100)\n",
    "plt.plot( x, norm.pdf(x, 0, np.std(mean_values,ddof=1)))\n"
   ]
  },
  {
   "cell_type": "code",
   "execution_count": 26,
   "metadata": {},
   "outputs": [
    {
     "data": {
      "text/plain": [
       "0.0343249172945204"
      ]
     },
     "execution_count": 26,
     "metadata": {},
     "output_type": "execute_result"
    }
   ],
   "source": [
    "np.var(mean_values)"
   ]
  },
  {
   "cell_type": "markdown",
   "metadata": {},
   "source": [
    "Vemos que la probabilidad de que esos datos se hayan conseguido por puro hazar es muy baja, inferior al 5%-"
   ]
  },
  {
   "cell_type": "markdown",
   "metadata": {},
   "source": [
    "### T-student"
   ]
  },
  {
   "cell_type": "markdown",
   "metadata": {},
   "source": [
    "El t-test es usado cuando tienes dos grupos de datos y quieres saber si la media de ambos grupos es igual o no. Tenemos dos hipótesis:\n",
    "\\\\[H_0 : \\mu(X) = \\mu(Y) \\\\]\n",
    "\\\\[H_1 : \\mu(X) \\ne \\mu(Y) \\\\]\n",
    "\n",
    "Empezamos con las siguientes suposiciones:\n",
    "1. Las muestras han sido seleccionas por muestreo aleatorio simple dentro de la población.\n",
    "2. Las poblaciones siguen una distribución normal. (sino usar test Wilcoxon-Mann-Whitney)\n",
    "3. Ambas poblaciones tienen la misma varianza. (sino usar test Welch)\n",
    "4. Las poblaciones no están correladas. (sino usar t-test emparejado)\n",
    "\n",
    "Primero calculamos la media y varianza de ambos grupos. El test para verificar si la hipótesis nula $H_0$ es cierta puede ser calculado como sigue:\n",
    "\n",
    "\\\\[ t=\\frac{E[X]-E[Y]}{s_p·\\sqrt{\\frac{1}{n_x}+\\frac{1}{n_y}}} \\\\]\n",
    "\n",
    "Donde $s_p$ es la desviación estandar compuesta, calculada como:\n",
    "\n",
    "\\\\[ s^2_p=\\frac{(n_x-1)Var[X]+(n_y-1)Var[Y]}{n_x+n_y-2} \\\\]\n",
    "\n",
    "Donde $n_x$ y $n_y$ son los números de muestras en cada uno de los grupos muestreados. El número de grados de libertad es \n",
    "$d.f.=n_x+n_y-2$. Podemos asumir que las dos varianzas son iguales si ambas pasan el test de varianza de Fisher(F-test).\n"
   ]
  },
  {
   "cell_type": "code",
   "execution_count": 27,
   "metadata": {},
   "outputs": [
    {
     "data": {
      "text/plain": [
       "0.046502721823500064"
      ]
     },
     "execution_count": 27,
     "metadata": {},
     "output_type": "execute_result"
    }
   ],
   "source": [
    "from scipy import stats\n",
    "t, p = stats.ttest_ind(weight_NO_smoke,weight_YES_smoke)\n",
    "p\n"
   ]
  },
  {
   "cell_type": "code",
   "execution_count": null,
   "metadata": {},
   "outputs": [],
   "source": []
  },
  {
   "cell_type": "markdown",
   "metadata": {},
   "source": [
    "# Regresiones lineales\n",
    "\n",
    "Modelo matemático usado para aproximar la relación de dependencia entre una variable dependiente $Y$, diferentes variables independientes definidas en la matriz $X$ y un término aleatorio $\\varepsilon$. Este modelo puede ser expresado como:\n",
    "\n",
    "\\\\[\n",
    "\\hat{Y}=\\beta_1 X_1+\\beta_2 X_2+\\cdots +\\beta_p X_p = \\sum \\beta_k X_k\n",
    "\\\\]\n",
    "\n",
    "\n",
    "Tratamos de encontrar la predicción $\\hat{Y}$ tal que minimize el error cuadrático medio:\n",
    "\\\\[\n",
    "MSE = {1 \\over n} \\sum_{i=0}^n{(Y-\\hat{Y})^2}\n",
    "\\\\]\n",
    "\n",
    "\n",
    "\n",
    "![](https://upload.wikimedia.org/wikipedia/commons/thumb/3/3a/Linear_regression.svg/400px-Linear_regression.svg.png)\n"
   ]
  },
  {
   "cell_type": "code",
   "execution_count": 28,
   "metadata": {},
   "outputs": [],
   "source": [
    "from sklearn.model_selection import train_test_split\n",
    "train,test = train_test_split(birth_weight,test_size=0.33, random_state=42)"
   ]
  },
  {
   "cell_type": "code",
   "execution_count": 29,
   "metadata": {},
   "outputs": [],
   "source": [
    "from statsmodels.formula.api import ols"
   ]
  },
  {
   "cell_type": "code",
   "execution_count": 30,
   "metadata": {},
   "outputs": [
    {
     "data": {
      "text/html": [
       "<div>\n",
       "<style scoped>\n",
       "    .dataframe tbody tr th:only-of-type {\n",
       "        vertical-align: middle;\n",
       "    }\n",
       "\n",
       "    .dataframe tbody tr th {\n",
       "        vertical-align: top;\n",
       "    }\n",
       "\n",
       "    .dataframe thead th {\n",
       "        text-align: right;\n",
       "    }\n",
       "</style>\n",
       "<table border=\"1\" class=\"dataframe\">\n",
       "  <thead>\n",
       "    <tr style=\"text-align: right;\">\n",
       "      <th></th>\n",
       "      <th>id</th>\n",
       "      <th>headcirumference</th>\n",
       "      <th>length</th>\n",
       "      <th>Birthweight</th>\n",
       "      <th>Gestation</th>\n",
       "      <th>smoker</th>\n",
       "      <th>motherage</th>\n",
       "      <th>mnocig</th>\n",
       "      <th>mheight</th>\n",
       "      <th>mppwt</th>\n",
       "      <th>fage</th>\n",
       "      <th>fedyrs</th>\n",
       "      <th>fnocig</th>\n",
       "      <th>fheight</th>\n",
       "      <th>lowbwt</th>\n",
       "      <th>mage35</th>\n",
       "      <th>LowBirthWeight</th>\n",
       "      <th>Birthweight_kg</th>\n",
       "    </tr>\n",
       "  </thead>\n",
       "  <tbody>\n",
       "    <tr>\n",
       "      <th>15</th>\n",
       "      <td>1600</td>\n",
       "      <td>13</td>\n",
       "      <td>21</td>\n",
       "      <td>6.3</td>\n",
       "      <td>39</td>\n",
       "      <td>0</td>\n",
       "      <td>19</td>\n",
       "      <td>0</td>\n",
       "      <td>64</td>\n",
       "      <td>125</td>\n",
       "      <td>23</td>\n",
       "      <td>14</td>\n",
       "      <td>2</td>\n",
       "      <td>76</td>\n",
       "      <td>0</td>\n",
       "      <td>0</td>\n",
       "      <td>Normal</td>\n",
       "      <td>2.857630</td>\n",
       "    </tr>\n",
       "    <tr>\n",
       "      <th>33</th>\n",
       "      <td>27</td>\n",
       "      <td>14</td>\n",
       "      <td>20</td>\n",
       "      <td>7.8</td>\n",
       "      <td>41</td>\n",
       "      <td>1</td>\n",
       "      <td>37</td>\n",
       "      <td>25</td>\n",
       "      <td>63</td>\n",
       "      <td>145</td>\n",
       "      <td>46</td>\n",
       "      <td>16</td>\n",
       "      <td>0</td>\n",
       "      <td>68</td>\n",
       "      <td>0</td>\n",
       "      <td>1</td>\n",
       "      <td>Normal</td>\n",
       "      <td>3.538018</td>\n",
       "    </tr>\n",
       "    <tr>\n",
       "      <th>16</th>\n",
       "      <td>57</td>\n",
       "      <td>14</td>\n",
       "      <td>20</td>\n",
       "      <td>7.3</td>\n",
       "      <td>39</td>\n",
       "      <td>1</td>\n",
       "      <td>23</td>\n",
       "      <td>17</td>\n",
       "      <td>62</td>\n",
       "      <td>104</td>\n",
       "      <td>32</td>\n",
       "      <td>12</td>\n",
       "      <td>25</td>\n",
       "      <td>66</td>\n",
       "      <td>0</td>\n",
       "      <td>0</td>\n",
       "      <td>Normal</td>\n",
       "      <td>3.311222</td>\n",
       "    </tr>\n",
       "    <tr>\n",
       "      <th>36</th>\n",
       "      <td>1764</td>\n",
       "      <td>15</td>\n",
       "      <td>22</td>\n",
       "      <td>10.0</td>\n",
       "      <td>41</td>\n",
       "      <td>1</td>\n",
       "      <td>32</td>\n",
       "      <td>12</td>\n",
       "      <td>68</td>\n",
       "      <td>154</td>\n",
       "      <td>38</td>\n",
       "      <td>14</td>\n",
       "      <td>25</td>\n",
       "      <td>71</td>\n",
       "      <td>0</td>\n",
       "      <td>0</td>\n",
       "      <td>Normal</td>\n",
       "      <td>4.535920</td>\n",
       "    </tr>\n",
       "    <tr>\n",
       "      <th>35</th>\n",
       "      <td>1388</td>\n",
       "      <td>13</td>\n",
       "      <td>20</td>\n",
       "      <td>6.9</td>\n",
       "      <td>41</td>\n",
       "      <td>1</td>\n",
       "      <td>22</td>\n",
       "      <td>7</td>\n",
       "      <td>63</td>\n",
       "      <td>117</td>\n",
       "      <td>24</td>\n",
       "      <td>16</td>\n",
       "      <td>12</td>\n",
       "      <td>69</td>\n",
       "      <td>0</td>\n",
       "      <td>0</td>\n",
       "      <td>Normal</td>\n",
       "      <td>3.129785</td>\n",
       "    </tr>\n",
       "  </tbody>\n",
       "</table>\n",
       "</div>"
      ],
      "text/plain": [
       "      id  headcirumference  length  Birthweight  Gestation  smoker  motherage  \\\n",
       "15  1600                13      21          6.3         39       0         19   \n",
       "33    27                14      20          7.8         41       1         37   \n",
       "16    57                14      20          7.3         39       1         23   \n",
       "36  1764                15      22         10.0         41       1         32   \n",
       "35  1388                13      20          6.9         41       1         22   \n",
       "\n",
       "    mnocig  mheight  mppwt  fage  fedyrs  fnocig  fheight  lowbwt  mage35  \\\n",
       "15       0       64    125    23      14       2       76       0       0   \n",
       "33      25       63    145    46      16       0       68       0       1   \n",
       "16      17       62    104    32      12      25       66       0       0   \n",
       "36      12       68    154    38      14      25       71       0       0   \n",
       "35       7       63    117    24      16      12       69       0       0   \n",
       "\n",
       "   LowBirthWeight  Birthweight_kg  \n",
       "15         Normal        2.857630  \n",
       "33         Normal        3.538018  \n",
       "16         Normal        3.311222  \n",
       "36         Normal        4.535920  \n",
       "35         Normal        3.129785  "
      ]
     },
     "execution_count": 30,
     "metadata": {},
     "output_type": "execute_result"
    }
   ],
   "source": [
    "train.head()"
   ]
  },
  {
   "cell_type": "code",
   "execution_count": 31,
   "metadata": {},
   "outputs": [
    {
     "name": "stdout",
     "output_type": "stream",
     "text": [
      "                            OLS Regression Results                            \n",
      "==============================================================================\n",
      "Dep. Variable:         Birthweight_kg   R-squared:                       0.322\n",
      "Model:                            OLS   Adj. R-squared:                  0.228\n",
      "Method:                 Least Squares   F-statistic:                     3.426\n",
      "Date:                Mon, 23 Nov 2020   Prob (F-statistic):             0.0124\n",
      "Time:                        18:31:11   Log-Likelihood:                -29.681\n",
      "No. Observations:                  42   AIC:                             71.36\n",
      "Df Residuals:                      36   BIC:                             81.79\n",
      "Df Model:                           5                                         \n",
      "Covariance Type:            nonrobust                                         \n",
      "==============================================================================\n",
      "                 coef    std err          t      P>|t|      [0.025      0.975]\n",
      "------------------------------------------------------------------------------\n",
      "Intercept     -4.1471      2.838     -1.461      0.153      -9.903       1.609\n",
      "mheight        0.1129      0.035      3.262      0.002       0.043       0.183\n",
      "motherage     -0.0482      0.026     -1.873      0.069      -0.100       0.004\n",
      "fheight       -0.0014      0.032     -0.044      0.965      -0.066       0.063\n",
      "fage           0.0556      0.021      2.630      0.012       0.013       0.098\n",
      "mnocig        -0.0114      0.007     -1.596      0.119      -0.026       0.003\n",
      "==============================================================================\n",
      "Omnibus:                        1.441   Durbin-Watson:                   1.202\n",
      "Prob(Omnibus):                  0.487   Jarque-Bera (JB):                0.672\n",
      "Skew:                           0.257   Prob(JB):                        0.715\n",
      "Kurtosis:                       3.346   Cond. No.                     3.60e+03\n",
      "==============================================================================\n",
      "\n",
      "Notes:\n",
      "[1] Standard Errors assume that the covariance matrix of the errors is correctly specified.\n",
      "[2] The condition number is large, 3.6e+03. This might indicate that there are\n",
      "strong multicollinearity or other numerical problems.\n"
     ]
    }
   ],
   "source": [
    "model = ols(formula='Birthweight_kg ~ mheight + motherage + fheight + fage + mnocig', data=birth_weight)\n",
    "res = model.fit()\n",
    "print(res.summary())"
   ]
  },
  {
   "cell_type": "code",
   "execution_count": 32,
   "metadata": {},
   "outputs": [
    {
     "name": "stdout",
     "output_type": "stream",
     "text": [
      "                            OLS Regression Results                            \n",
      "==============================================================================\n",
      "Dep. Variable:         Birthweight_kg   R-squared:                       0.183\n",
      "Model:                            OLS   Adj. R-squared:                  0.141\n",
      "Method:                 Least Squares   F-statistic:                     4.362\n",
      "Date:                Mon, 23 Nov 2020   Prob (F-statistic):             0.0195\n",
      "Time:                        18:31:11   Log-Likelihood:                -33.616\n",
      "No. Observations:                  42   AIC:                             73.23\n",
      "Df Residuals:                      39   BIC:                             78.45\n",
      "Df Model:                           2                                         \n",
      "Covariance Type:            nonrobust                                         \n",
      "==============================================================================\n",
      "                 coef    std err          t      P>|t|      [0.025      0.975]\n",
      "------------------------------------------------------------------------------\n",
      "Intercept     -2.7943      2.232     -1.252      0.218      -7.308       1.720\n",
      "mheight        0.0961      0.035      2.763      0.009       0.026       0.166\n",
      "mnocig        -0.0107      0.007     -1.504      0.141      -0.025       0.004\n",
      "==============================================================================\n",
      "Omnibus:                        1.445   Durbin-Watson:                   1.204\n",
      "Prob(Omnibus):                  0.485   Jarque-Bera (JB):                0.714\n",
      "Skew:                          -0.284   Prob(JB):                        0.700\n",
      "Kurtosis:                       3.291   Cond. No.                     1.69e+03\n",
      "==============================================================================\n",
      "\n",
      "Notes:\n",
      "[1] Standard Errors assume that the covariance matrix of the errors is correctly specified.\n",
      "[2] The condition number is large, 1.69e+03. This might indicate that there are\n",
      "strong multicollinearity or other numerical problems.\n"
     ]
    }
   ],
   "source": [
    "model = ols(formula='Birthweight_kg ~ mheight+ mnocig', data=birth_weight)\n",
    "res = model.fit()\n",
    "print(res.summary())"
   ]
  },
  {
   "cell_type": "markdown",
   "metadata": {},
   "source": [
    "## Clasificación: Regresión logística"
   ]
  },
  {
   "cell_type": "markdown",
   "metadata": {},
   "source": [
    "En lugar de realizar una predicción de un valor queremos hacer un clasificador.\n",
    "Podemos tratar de asignar una probabilidad. Pero hay un problema porque la regresión lineal va entre 0 y 1.\n",
    "\n",
    "Para ello transformarmos la regresión lineal mediante la función logit:\n",
    "\n",
    "![](https://upload.wikimedia.org/wikipedia/commons/thumb/c/c8/Logit.svg/350px-Logit.svg.png)\n",
    "\n",
    "#### función de enlace (link function)\n",
    "\n",
    "Para pasar del dominio de números reales $(-\\infty,\\infty)$ al de probabilidades $[0,1]$ a vamos a utilizar la **función logística**:\n",
    "\\\\[\n",
    "p = h(x)=  \\frac{1}{1+e^{-x}}\n",
    "\\\\]\n",
    "Su inversa se conoce como la función **logit**:\n",
    "\\\\[\n",
    "h^{-1}(p) = log \\left( \\frac{p}{1-p} \\right)\n",
    "\\\\]"
   ]
  },
  {
   "cell_type": "markdown",
   "metadata": {},
   "source": [
    "Es decir, cuando estemos trabajando con una **distribución binomial** un modelo lineal del tipo:\n",
    "\\\\[\n",
    "y = \\beta \\vec{x}+\\beta_0\n",
    "\\\\]\n",
    "lo podemos trasnformar en:\n",
    "\\\\[\n",
    "y = p(x) = \\frac{1}{1+e^{-\\beta \\vec{x}-\\beta_0}} \n",
    "\\\\]\n",
    "Ahora $p(x)$ es una función que muestra valores en el rango $[0,1]$, puede ser considerada como una probabilidad.\n",
    "\n",
    "Y definiendo un umbral podríamos tener el siguiente clasificador:\n",
    "* Seleccionamos clase 1 si p(x)>=0.5\n",
    "* Seleccionamos clase 0 si p(x)< 0.5\n",
    "\n",
    "\n",
    "\n",
    "Es decir, tenemos una probabilidad, su valor está en el rango $[0,1]$:\n",
    "\\\\[\n",
    "    p = \\frac{1}{1-e^{-\\hat{Y}}}= \\frac{1}{1-e^{-(\\beta_1 X_1+\\beta_2 X_2+\\cdots +\\beta_p X_p)}}   \n",
    "\\\\]\n",
    "\n",
    "Definimos la razón de monomios (Odds ratio) como el cociente entre dos probabilidades, su valor está en el rango $[0,\\infty]$:\n",
    "\n",
    "\\\\[\n",
    " Odds = \\frac{p}{1-p}=\\frac{\\frac{1}{1-e^{-(\\beta_1 X_1+\\beta_2 X_2+\\cdots +\\beta_p X_p)}}}{\\frac{e^{-(\\beta_1 X_1+\\beta_2 X_2+\\cdots +\\beta_p X_p)}}{1-e^{-(\\beta_1 X_1+\\beta_2 X_2+\\cdots +\\beta_p X_p)}}}=e^{(\\beta_1 X_1+\\beta_2 X_2+\\cdots +\\beta_p X_p)}\n",
    "\\\\]\n",
    "\n",
    "Si aplicamos el logaritmo a la razón de monomios tenemos un valor que está en el rango $[-\\infty,\\infty]$:\n",
    "\\\\[\n",
    " log(Odds)= log \\left(\\frac{p}{1-p} \\right) = \\beta_1 X_1+\\beta_2 X_2+\\cdots +\\beta_p X_p\n",
    "\\\\]\n",
    "\n",
    "La función de coste que vamos a tratar de minimizar será:\n",
    "\\\\[\n",
    "\\begin{split}\n",
    "Cost(p(x),y) &= {1 \\over n} \\sum_{i=0}^n{(y-\\hat{y})^2}\\\\\n",
    "Cost(p(x),y) &= {1 \\over n} \\sum_{i=0}^n{(y-p(x))^2}\n",
    "\\end{split}\n",
    "\\\\]\n",
    "Que transformaremos en:\n",
    "\\\\[\n",
    "Cost(p(x),y) = -y ·log(p(x))-(1-y)·log(1-p(x))\n",
    "\\\\]\n"
   ]
  },
  {
   "cell_type": "markdown",
   "metadata": {},
   "source": [
    "### Ejemplo:Churn rate\n",
    "\n",
    "Vamos a utilizar un dataset publicado por IBM en [kaggle](https://www.kaggle.com/blastchar/telco-customer-churn).\n",
    "\n",
    "\n",
    "En este ejemplo vamos a cargar el dataset proporcionado y ver si somos capaces de ver qué usuarios son los que corren más riesgo de irse.\n",
    "\n",
    "El conjunto de datos incluye información sobre:\n",
    "\n",
    "* Clientes que se fueron en el último mes: la columna se llama Churn\n",
    "* Servicios para los que se ha registrado cada cliente: teléfono, líneas múltiples, Internet, seguridad en línea, copia de seguridad en línea, protección de dispositivos, soporte técnico y transmisión de TV y películas\n",
    "* Información de la cuenta del cliente: cuánto tiempo han sido cliente (columna tenure), contrato, método de pago, facturación electrónica, cargos mensuales y cargos totales\n",
    "* Información demográfica sobre los clientes: sexo, rango de edad y si tienen socios y dependientes"
   ]
  },
  {
   "cell_type": "code",
   "execution_count": 75,
   "metadata": {},
   "outputs": [
    {
     "data": {
      "text/html": [
       "<div>\n",
       "<style scoped>\n",
       "    .dataframe tbody tr th:only-of-type {\n",
       "        vertical-align: middle;\n",
       "    }\n",
       "\n",
       "    .dataframe tbody tr th {\n",
       "        vertical-align: top;\n",
       "    }\n",
       "\n",
       "    .dataframe thead th {\n",
       "        text-align: right;\n",
       "    }\n",
       "</style>\n",
       "<table border=\"1\" class=\"dataframe\">\n",
       "  <thead>\n",
       "    <tr style=\"text-align: right;\">\n",
       "      <th></th>\n",
       "      <th>customerID</th>\n",
       "      <th>gender</th>\n",
       "      <th>SeniorCitizen</th>\n",
       "      <th>Partner</th>\n",
       "      <th>Dependents</th>\n",
       "      <th>tenure</th>\n",
       "      <th>PhoneService</th>\n",
       "      <th>MultipleLines</th>\n",
       "      <th>InternetService</th>\n",
       "      <th>OnlineSecurity</th>\n",
       "      <th>...</th>\n",
       "      <th>DeviceProtection</th>\n",
       "      <th>TechSupport</th>\n",
       "      <th>StreamingTV</th>\n",
       "      <th>StreamingMovies</th>\n",
       "      <th>Contract</th>\n",
       "      <th>PaperlessBilling</th>\n",
       "      <th>PaymentMethod</th>\n",
       "      <th>MonthlyCharges</th>\n",
       "      <th>TotalCharges</th>\n",
       "      <th>Churn</th>\n",
       "    </tr>\n",
       "  </thead>\n",
       "  <tbody>\n",
       "    <tr>\n",
       "      <th>0</th>\n",
       "      <td>7590-VHVEG</td>\n",
       "      <td>Female</td>\n",
       "      <td>0</td>\n",
       "      <td>Yes</td>\n",
       "      <td>No</td>\n",
       "      <td>1</td>\n",
       "      <td>No</td>\n",
       "      <td>No phone service</td>\n",
       "      <td>DSL</td>\n",
       "      <td>No</td>\n",
       "      <td>...</td>\n",
       "      <td>No</td>\n",
       "      <td>No</td>\n",
       "      <td>No</td>\n",
       "      <td>No</td>\n",
       "      <td>Month-to-month</td>\n",
       "      <td>Yes</td>\n",
       "      <td>Electronic check</td>\n",
       "      <td>29.85</td>\n",
       "      <td>29.85</td>\n",
       "      <td>No</td>\n",
       "    </tr>\n",
       "    <tr>\n",
       "      <th>1</th>\n",
       "      <td>5575-GNVDE</td>\n",
       "      <td>Male</td>\n",
       "      <td>0</td>\n",
       "      <td>No</td>\n",
       "      <td>No</td>\n",
       "      <td>34</td>\n",
       "      <td>Yes</td>\n",
       "      <td>No</td>\n",
       "      <td>DSL</td>\n",
       "      <td>Yes</td>\n",
       "      <td>...</td>\n",
       "      <td>Yes</td>\n",
       "      <td>No</td>\n",
       "      <td>No</td>\n",
       "      <td>No</td>\n",
       "      <td>One year</td>\n",
       "      <td>No</td>\n",
       "      <td>Mailed check</td>\n",
       "      <td>56.95</td>\n",
       "      <td>1889.5</td>\n",
       "      <td>No</td>\n",
       "    </tr>\n",
       "    <tr>\n",
       "      <th>2</th>\n",
       "      <td>3668-QPYBK</td>\n",
       "      <td>Male</td>\n",
       "      <td>0</td>\n",
       "      <td>No</td>\n",
       "      <td>No</td>\n",
       "      <td>2</td>\n",
       "      <td>Yes</td>\n",
       "      <td>No</td>\n",
       "      <td>DSL</td>\n",
       "      <td>Yes</td>\n",
       "      <td>...</td>\n",
       "      <td>No</td>\n",
       "      <td>No</td>\n",
       "      <td>No</td>\n",
       "      <td>No</td>\n",
       "      <td>Month-to-month</td>\n",
       "      <td>Yes</td>\n",
       "      <td>Mailed check</td>\n",
       "      <td>53.85</td>\n",
       "      <td>108.15</td>\n",
       "      <td>Yes</td>\n",
       "    </tr>\n",
       "    <tr>\n",
       "      <th>3</th>\n",
       "      <td>7795-CFOCW</td>\n",
       "      <td>Male</td>\n",
       "      <td>0</td>\n",
       "      <td>No</td>\n",
       "      <td>No</td>\n",
       "      <td>45</td>\n",
       "      <td>No</td>\n",
       "      <td>No phone service</td>\n",
       "      <td>DSL</td>\n",
       "      <td>Yes</td>\n",
       "      <td>...</td>\n",
       "      <td>Yes</td>\n",
       "      <td>Yes</td>\n",
       "      <td>No</td>\n",
       "      <td>No</td>\n",
       "      <td>One year</td>\n",
       "      <td>No</td>\n",
       "      <td>Bank transfer (automatic)</td>\n",
       "      <td>42.30</td>\n",
       "      <td>1840.75</td>\n",
       "      <td>No</td>\n",
       "    </tr>\n",
       "    <tr>\n",
       "      <th>4</th>\n",
       "      <td>9237-HQITU</td>\n",
       "      <td>Female</td>\n",
       "      <td>0</td>\n",
       "      <td>No</td>\n",
       "      <td>No</td>\n",
       "      <td>2</td>\n",
       "      <td>Yes</td>\n",
       "      <td>No</td>\n",
       "      <td>Fiber optic</td>\n",
       "      <td>No</td>\n",
       "      <td>...</td>\n",
       "      <td>No</td>\n",
       "      <td>No</td>\n",
       "      <td>No</td>\n",
       "      <td>No</td>\n",
       "      <td>Month-to-month</td>\n",
       "      <td>Yes</td>\n",
       "      <td>Electronic check</td>\n",
       "      <td>70.70</td>\n",
       "      <td>151.65</td>\n",
       "      <td>Yes</td>\n",
       "    </tr>\n",
       "  </tbody>\n",
       "</table>\n",
       "<p>5 rows × 21 columns</p>\n",
       "</div>"
      ],
      "text/plain": [
       "   customerID  gender  SeniorCitizen Partner Dependents  tenure PhoneService  \\\n",
       "0  7590-VHVEG  Female              0     Yes         No       1           No   \n",
       "1  5575-GNVDE    Male              0      No         No      34          Yes   \n",
       "2  3668-QPYBK    Male              0      No         No       2          Yes   \n",
       "3  7795-CFOCW    Male              0      No         No      45           No   \n",
       "4  9237-HQITU  Female              0      No         No       2          Yes   \n",
       "\n",
       "      MultipleLines InternetService OnlineSecurity  ... DeviceProtection  \\\n",
       "0  No phone service             DSL             No  ...               No   \n",
       "1                No             DSL            Yes  ...              Yes   \n",
       "2                No             DSL            Yes  ...               No   \n",
       "3  No phone service             DSL            Yes  ...              Yes   \n",
       "4                No     Fiber optic             No  ...               No   \n",
       "\n",
       "  TechSupport StreamingTV StreamingMovies        Contract PaperlessBilling  \\\n",
       "0          No          No              No  Month-to-month              Yes   \n",
       "1          No          No              No        One year               No   \n",
       "2          No          No              No  Month-to-month              Yes   \n",
       "3         Yes          No              No        One year               No   \n",
       "4          No          No              No  Month-to-month              Yes   \n",
       "\n",
       "               PaymentMethod MonthlyCharges  TotalCharges Churn  \n",
       "0           Electronic check          29.85         29.85    No  \n",
       "1               Mailed check          56.95        1889.5    No  \n",
       "2               Mailed check          53.85        108.15   Yes  \n",
       "3  Bank transfer (automatic)          42.30       1840.75    No  \n",
       "4           Electronic check          70.70        151.65   Yes  \n",
       "\n",
       "[5 rows x 21 columns]"
      ]
     },
     "execution_count": 75,
     "metadata": {},
     "output_type": "execute_result"
    }
   ],
   "source": [
    "df_churn=pd.read_csv(\"WA_Fn-UseC_-Telco-Customer-Churn.csv\")\n",
    "\n",
    "df_churn.head()"
   ]
  },
  {
   "cell_type": "code",
   "execution_count": 76,
   "metadata": {},
   "outputs": [
    {
     "data": {
      "text/plain": [
       "customerID           object\n",
       "gender               object\n",
       "SeniorCitizen         int64\n",
       "Partner              object\n",
       "Dependents           object\n",
       "tenure                int64\n",
       "PhoneService         object\n",
       "MultipleLines        object\n",
       "InternetService      object\n",
       "OnlineSecurity       object\n",
       "OnlineBackup         object\n",
       "DeviceProtection     object\n",
       "TechSupport          object\n",
       "StreamingTV          object\n",
       "StreamingMovies      object\n",
       "Contract             object\n",
       "PaperlessBilling     object\n",
       "PaymentMethod        object\n",
       "MonthlyCharges      float64\n",
       "TotalCharges         object\n",
       "Churn                object\n",
       "dtype: object"
      ]
     },
     "execution_count": 76,
     "metadata": {},
     "output_type": "execute_result"
    }
   ],
   "source": [
    "df_churn.dtypes"
   ]
  },
  {
   "cell_type": "code",
   "execution_count": 77,
   "metadata": {},
   "outputs": [],
   "source": [
    "df_churn=df_churn.drop(\n",
    "    columns=[\"customerID\",\"OnlineSecurity\",\"OnlineBackup\",\n",
    "             \"DeviceProtection\",\"TechSupport\",\"StreamingTV\",\"StreamingMovies\",\"TotalCharges\"])"
   ]
  },
  {
   "cell_type": "code",
   "execution_count": 78,
   "metadata": {},
   "outputs": [
    {
     "data": {
      "text/plain": [
       "gender               object\n",
       "SeniorCitizen         int64\n",
       "Partner              object\n",
       "Dependents           object\n",
       "tenure                int64\n",
       "PhoneService         object\n",
       "MultipleLines        object\n",
       "InternetService      object\n",
       "Contract             object\n",
       "PaperlessBilling     object\n",
       "PaymentMethod        object\n",
       "MonthlyCharges      float64\n",
       "Churn                object\n",
       "dtype: object"
      ]
     },
     "execution_count": 78,
     "metadata": {},
     "output_type": "execute_result"
    }
   ],
   "source": [
    "df_churn.dtypes"
   ]
  },
  {
   "cell_type": "code",
   "execution_count": 42,
   "metadata": {},
   "outputs": [],
   "source": [
    "from statsmodels.formula.api import logit\n",
    "# https://www.statsmodels.org/stable/generated/statsmodels.formula.api.logit.html"
   ]
  },
  {
   "cell_type": "code",
   "execution_count": 79,
   "metadata": {},
   "outputs": [
    {
     "data": {
      "text/plain": [
       "array(['No', 'Yes'], dtype=object)"
      ]
     },
     "execution_count": 79,
     "metadata": {},
     "output_type": "execute_result"
    }
   ],
   "source": [
    "df_churn[\"Churn\"].unique()"
   ]
  },
  {
   "cell_type": "code",
   "execution_count": 82,
   "metadata": {},
   "outputs": [],
   "source": [
    "df_churn[\"Churn\"]=df_churn[\"Churn\"].astype('category')\n",
    "df_churn[\"Churn_id\"]=df_churn[\"Churn\"].cat.codes"
   ]
  },
  {
   "cell_type": "code",
   "execution_count": 91,
   "metadata": {},
   "outputs": [],
   "source": [
    "from sklearn.model_selection import train_test_split\n",
    "df_churn_train,df_churn_test = train_test_split(df_churn,test_size=0.33, random_state=42)"
   ]
  },
  {
   "cell_type": "code",
   "execution_count": 92,
   "metadata": {},
   "outputs": [
    {
     "name": "stdout",
     "output_type": "stream",
     "text": [
      "Optimization terminated successfully.\n",
      "         Current function value: 0.438817\n",
      "         Iterations 7\n"
     ]
    },
    {
     "data": {
      "text/html": [
       "<table class=\"simpletable\">\n",
       "<caption>Logit Regression Results</caption>\n",
       "<tr>\n",
       "  <th>Dep. Variable:</th>       <td>Churn_id</td>     <th>  No. Observations:  </th>   <td>  4718</td>  \n",
       "</tr>\n",
       "<tr>\n",
       "  <th>Model:</th>                 <td>Logit</td>      <th>  Df Residuals:      </th>   <td>  4709</td>  \n",
       "</tr>\n",
       "<tr>\n",
       "  <th>Method:</th>                 <td>MLE</td>       <th>  Df Model:          </th>   <td>     8</td>  \n",
       "</tr>\n",
       "<tr>\n",
       "  <th>Date:</th>            <td>Mon, 23 Nov 2020</td> <th>  Pseudo R-squ.:     </th>   <td>0.2384</td>  \n",
       "</tr>\n",
       "<tr>\n",
       "  <th>Time:</th>                <td>18:51:51</td>     <th>  Log-Likelihood:    </th>  <td> -2070.3</td> \n",
       "</tr>\n",
       "<tr>\n",
       "  <th>converged:</th>             <td>True</td>       <th>  LL-Null:           </th>  <td> -2718.5</td> \n",
       "</tr>\n",
       "<tr>\n",
       "  <th>Covariance Type:</th>     <td>nonrobust</td>    <th>  LLR p-value:       </th> <td>1.395e-274</td>\n",
       "</tr>\n",
       "</table>\n",
       "<table class=\"simpletable\">\n",
       "<tr>\n",
       "                       <td></td>                          <th>coef</th>     <th>std err</th>      <th>z</th>      <th>P>|z|</th>  <th>[0.025</th>    <th>0.975]</th>  \n",
       "</tr>\n",
       "<tr>\n",
       "  <th>Intercept</th>                                   <td>   -0.6020</td> <td>    0.214</td> <td>   -2.816</td> <td> 0.005</td> <td>   -1.021</td> <td>   -0.183</td>\n",
       "</tr>\n",
       "<tr>\n",
       "  <th>C(InternetService)[T.Fiber optic]</th>           <td>    1.2170</td> <td>    0.149</td> <td>    8.157</td> <td> 0.000</td> <td>    0.925</td> <td>    1.509</td>\n",
       "</tr>\n",
       "<tr>\n",
       "  <th>C(InternetService)[T.No]</th>                    <td>   -1.0884</td> <td>    0.179</td> <td>   -6.066</td> <td> 0.000</td> <td>   -1.440</td> <td>   -0.737</td>\n",
       "</tr>\n",
       "<tr>\n",
       "  <th>C(PaperlessBilling)[T.Yes]</th>                  <td>    0.4520</td> <td>    0.087</td> <td>    5.167</td> <td> 0.000</td> <td>    0.281</td> <td>    0.623</td>\n",
       "</tr>\n",
       "<tr>\n",
       "  <th>C(PaymentMethod)[T.Credit card (automatic)]</th> <td>   -0.0518</td> <td>    0.133</td> <td>   -0.390</td> <td> 0.697</td> <td>   -0.313</td> <td>    0.209</td>\n",
       "</tr>\n",
       "<tr>\n",
       "  <th>C(PaymentMethod)[T.Electronic check]</th>        <td>    0.4854</td> <td>    0.110</td> <td>    4.409</td> <td> 0.000</td> <td>    0.270</td> <td>    0.701</td>\n",
       "</tr>\n",
       "<tr>\n",
       "  <th>C(PaymentMethod)[T.Mailed check]</th>            <td>   -0.0692</td> <td>    0.134</td> <td>   -0.518</td> <td> 0.604</td> <td>   -0.331</td> <td>    0.193</td>\n",
       "</tr>\n",
       "<tr>\n",
       "  <th>tenure</th>                                      <td>   -0.0412</td> <td>    0.002</td> <td>  -18.526</td> <td> 0.000</td> <td>   -0.046</td> <td>   -0.037</td>\n",
       "</tr>\n",
       "<tr>\n",
       "  <th>MonthlyCharges</th>                              <td>   -0.0034</td> <td>    0.004</td> <td>   -0.953</td> <td> 0.341</td> <td>   -0.010</td> <td>    0.004</td>\n",
       "</tr>\n",
       "</table>"
      ],
      "text/plain": [
       "<class 'statsmodels.iolib.summary.Summary'>\n",
       "\"\"\"\n",
       "                           Logit Regression Results                           \n",
       "==============================================================================\n",
       "Dep. Variable:               Churn_id   No. Observations:                 4718\n",
       "Model:                          Logit   Df Residuals:                     4709\n",
       "Method:                           MLE   Df Model:                            8\n",
       "Date:                Mon, 23 Nov 2020   Pseudo R-squ.:                  0.2384\n",
       "Time:                        18:51:51   Log-Likelihood:                -2070.3\n",
       "converged:                       True   LL-Null:                       -2718.5\n",
       "Covariance Type:            nonrobust   LLR p-value:                1.395e-274\n",
       "===============================================================================================================\n",
       "                                                  coef    std err          z      P>|z|      [0.025      0.975]\n",
       "---------------------------------------------------------------------------------------------------------------\n",
       "Intercept                                      -0.6020      0.214     -2.816      0.005      -1.021      -0.183\n",
       "C(InternetService)[T.Fiber optic]               1.2170      0.149      8.157      0.000       0.925       1.509\n",
       "C(InternetService)[T.No]                       -1.0884      0.179     -6.066      0.000      -1.440      -0.737\n",
       "C(PaperlessBilling)[T.Yes]                      0.4520      0.087      5.167      0.000       0.281       0.623\n",
       "C(PaymentMethod)[T.Credit card (automatic)]    -0.0518      0.133     -0.390      0.697      -0.313       0.209\n",
       "C(PaymentMethod)[T.Electronic check]            0.4854      0.110      4.409      0.000       0.270       0.701\n",
       "C(PaymentMethod)[T.Mailed check]               -0.0692      0.134     -0.518      0.604      -0.331       0.193\n",
       "tenure                                         -0.0412      0.002    -18.526      0.000      -0.046      -0.037\n",
       "MonthlyCharges                                 -0.0034      0.004     -0.953      0.341      -0.010       0.004\n",
       "===============================================================================================================\n",
       "\"\"\""
      ]
     },
     "execution_count": 92,
     "metadata": {},
     "output_type": "execute_result"
    }
   ],
   "source": [
    "churn_model=logit(formula=\"Churn_id ~ tenure+C(InternetService)+C(PaperlessBilling)+MonthlyCharges+C(PaymentMethod)\",\n",
    "                  data=df_churn_train).fit()\n",
    "churn_model.summary()"
   ]
  },
  {
   "cell_type": "code",
   "execution_count": 110,
   "metadata": {},
   "outputs": [
    {
     "data": {
      "text/html": [
       "<div>\n",
       "<style scoped>\n",
       "    .dataframe tbody tr th:only-of-type {\n",
       "        vertical-align: middle;\n",
       "    }\n",
       "\n",
       "    .dataframe tbody tr th {\n",
       "        vertical-align: top;\n",
       "    }\n",
       "\n",
       "    .dataframe thead th {\n",
       "        text-align: right;\n",
       "    }\n",
       "</style>\n",
       "<table border=\"1\" class=\"dataframe\">\n",
       "  <thead>\n",
       "    <tr style=\"text-align: right;\">\n",
       "      <th>PaymentMethod</th>\n",
       "      <th>Bank transfer (automatic)</th>\n",
       "      <th>Credit card (automatic)</th>\n",
       "      <th>Electronic check</th>\n",
       "      <th>Mailed check</th>\n",
       "    </tr>\n",
       "    <tr>\n",
       "      <th>Churn</th>\n",
       "      <th></th>\n",
       "      <th></th>\n",
       "      <th></th>\n",
       "      <th></th>\n",
       "    </tr>\n",
       "  </thead>\n",
       "  <tbody>\n",
       "    <tr>\n",
       "      <th>No</th>\n",
       "      <td>866</td>\n",
       "      <td>855</td>\n",
       "      <td>891</td>\n",
       "      <td>865</td>\n",
       "    </tr>\n",
       "    <tr>\n",
       "      <th>Yes</th>\n",
       "      <td>179</td>\n",
       "      <td>157</td>\n",
       "      <td>704</td>\n",
       "      <td>201</td>\n",
       "    </tr>\n",
       "  </tbody>\n",
       "</table>\n",
       "</div>"
      ],
      "text/plain": [
       "PaymentMethod  Bank transfer (automatic)  Credit card (automatic)  \\\n",
       "Churn                                                               \n",
       "No                                   866                      855   \n",
       "Yes                                  179                      157   \n",
       "\n",
       "PaymentMethod  Electronic check  Mailed check  \n",
       "Churn                                          \n",
       "No                          891           865  \n",
       "Yes                         704           201  "
      ]
     },
     "execution_count": 110,
     "metadata": {},
     "output_type": "execute_result"
    }
   ],
   "source": [
    "df_payment=pd.crosstab(index=df_churn_train[\"Churn\"],columns=df_churn_train[\"PaymentMethod\"])\n",
    "df_payment"
   ]
  },
  {
   "cell_type": "code",
   "execution_count": 128,
   "metadata": {},
   "outputs": [],
   "source": [
    "from scipy import stats\n",
    "from statsmodels.stats.proportion import proportion_confint"
   ]
  },
  {
   "cell_type": "code",
   "execution_count": 130,
   "metadata": {},
   "outputs": [
    {
     "data": {
      "text/plain": [
       "(0.056846867590246805, 0.4657222213498857)"
      ]
     },
     "execution_count": 130,
     "metadata": {},
     "output_type": "execute_result"
    }
   ],
   "source": [
    "proportion_confint(3, nobs=15, method='binom_test')"
   ]
  },
  {
   "cell_type": "code",
   "execution_count": 141,
   "metadata": {},
   "outputs": [
    {
     "data": {
      "text/plain": [
       "PaymentMethod\n",
       "Bank transfer (automatic)    (0.8043989682028564, 0.8508284713881769)\n",
       "Credit card (automatic)       (0.821239099727908, 0.8662205018841802)\n",
       "Electronic check             (0.5338623831408056, 0.5830881151248672)\n",
       "Mailed check                 (0.7866683377891794, 0.8340532256476413)\n",
       "dtype: object"
      ]
     },
     "execution_count": 141,
     "metadata": {},
     "output_type": "execute_result"
    }
   ],
   "source": [
    "df_payment.apply(lambda x:proportion_confint(x[0],nobs=x[0]+x[1],method='binom_test'))"
   ]
  },
  {
   "cell_type": "code",
   "execution_count": 147,
   "metadata": {},
   "outputs": [],
   "source": [
    "df_churn[\"ElectronicCheck\"]=df_churn.PaymentMethod==\"Electronic check\""
   ]
  },
  {
   "cell_type": "code",
   "execution_count": 148,
   "metadata": {},
   "outputs": [
    {
     "data": {
      "text/html": [
       "<div>\n",
       "<style scoped>\n",
       "    .dataframe tbody tr th:only-of-type {\n",
       "        vertical-align: middle;\n",
       "    }\n",
       "\n",
       "    .dataframe tbody tr th {\n",
       "        vertical-align: top;\n",
       "    }\n",
       "\n",
       "    .dataframe thead th {\n",
       "        text-align: right;\n",
       "    }\n",
       "</style>\n",
       "<table border=\"1\" class=\"dataframe\">\n",
       "  <thead>\n",
       "    <tr style=\"text-align: right;\">\n",
       "      <th></th>\n",
       "      <th>gender</th>\n",
       "      <th>SeniorCitizen</th>\n",
       "      <th>Partner</th>\n",
       "      <th>Dependents</th>\n",
       "      <th>tenure</th>\n",
       "      <th>PhoneService</th>\n",
       "      <th>MultipleLines</th>\n",
       "      <th>InternetService</th>\n",
       "      <th>Contract</th>\n",
       "      <th>PaperlessBilling</th>\n",
       "      <th>PaymentMethod</th>\n",
       "      <th>MonthlyCharges</th>\n",
       "      <th>Churn</th>\n",
       "      <th>Churn_id</th>\n",
       "      <th>ElectronicCheck</th>\n",
       "    </tr>\n",
       "  </thead>\n",
       "  <tbody>\n",
       "    <tr>\n",
       "      <th>0</th>\n",
       "      <td>Female</td>\n",
       "      <td>0.0</td>\n",
       "      <td>Yes</td>\n",
       "      <td>No</td>\n",
       "      <td>1.0</td>\n",
       "      <td>No</td>\n",
       "      <td>No phone service</td>\n",
       "      <td>DSL</td>\n",
       "      <td>Month-to-month</td>\n",
       "      <td>Yes</td>\n",
       "      <td>Electronic check</td>\n",
       "      <td>29.85</td>\n",
       "      <td>No</td>\n",
       "      <td>0.0</td>\n",
       "      <td>True</td>\n",
       "    </tr>\n",
       "    <tr>\n",
       "      <th>1</th>\n",
       "      <td>Male</td>\n",
       "      <td>0.0</td>\n",
       "      <td>No</td>\n",
       "      <td>No</td>\n",
       "      <td>34.0</td>\n",
       "      <td>Yes</td>\n",
       "      <td>No</td>\n",
       "      <td>DSL</td>\n",
       "      <td>One year</td>\n",
       "      <td>No</td>\n",
       "      <td>Mailed check</td>\n",
       "      <td>56.95</td>\n",
       "      <td>No</td>\n",
       "      <td>0.0</td>\n",
       "      <td>False</td>\n",
       "    </tr>\n",
       "    <tr>\n",
       "      <th>2</th>\n",
       "      <td>Male</td>\n",
       "      <td>0.0</td>\n",
       "      <td>No</td>\n",
       "      <td>No</td>\n",
       "      <td>2.0</td>\n",
       "      <td>Yes</td>\n",
       "      <td>No</td>\n",
       "      <td>DSL</td>\n",
       "      <td>Month-to-month</td>\n",
       "      <td>Yes</td>\n",
       "      <td>Mailed check</td>\n",
       "      <td>53.85</td>\n",
       "      <td>Yes</td>\n",
       "      <td>1.0</td>\n",
       "      <td>False</td>\n",
       "    </tr>\n",
       "    <tr>\n",
       "      <th>3</th>\n",
       "      <td>Male</td>\n",
       "      <td>0.0</td>\n",
       "      <td>No</td>\n",
       "      <td>No</td>\n",
       "      <td>45.0</td>\n",
       "      <td>No</td>\n",
       "      <td>No phone service</td>\n",
       "      <td>DSL</td>\n",
       "      <td>One year</td>\n",
       "      <td>No</td>\n",
       "      <td>Bank transfer (automatic)</td>\n",
       "      <td>42.30</td>\n",
       "      <td>No</td>\n",
       "      <td>0.0</td>\n",
       "      <td>False</td>\n",
       "    </tr>\n",
       "    <tr>\n",
       "      <th>4</th>\n",
       "      <td>Female</td>\n",
       "      <td>0.0</td>\n",
       "      <td>No</td>\n",
       "      <td>No</td>\n",
       "      <td>2.0</td>\n",
       "      <td>Yes</td>\n",
       "      <td>No</td>\n",
       "      <td>Fiber optic</td>\n",
       "      <td>Month-to-month</td>\n",
       "      <td>Yes</td>\n",
       "      <td>Electronic check</td>\n",
       "      <td>70.70</td>\n",
       "      <td>Yes</td>\n",
       "      <td>1.0</td>\n",
       "      <td>True</td>\n",
       "    </tr>\n",
       "  </tbody>\n",
       "</table>\n",
       "</div>"
      ],
      "text/plain": [
       "   gender  SeniorCitizen Partner Dependents  tenure PhoneService  \\\n",
       "0  Female            0.0     Yes         No     1.0           No   \n",
       "1    Male            0.0      No         No    34.0          Yes   \n",
       "2    Male            0.0      No         No     2.0          Yes   \n",
       "3    Male            0.0      No         No    45.0           No   \n",
       "4  Female            0.0      No         No     2.0          Yes   \n",
       "\n",
       "      MultipleLines InternetService        Contract PaperlessBilling  \\\n",
       "0  No phone service             DSL  Month-to-month              Yes   \n",
       "1                No             DSL        One year               No   \n",
       "2                No             DSL  Month-to-month              Yes   \n",
       "3  No phone service             DSL        One year               No   \n",
       "4                No     Fiber optic  Month-to-month              Yes   \n",
       "\n",
       "               PaymentMethod  MonthlyCharges Churn  Churn_id  ElectronicCheck  \n",
       "0           Electronic check           29.85    No       0.0             True  \n",
       "1               Mailed check           56.95    No       0.0            False  \n",
       "2               Mailed check           53.85   Yes       1.0            False  \n",
       "3  Bank transfer (automatic)           42.30    No       0.0            False  \n",
       "4           Electronic check           70.70   Yes       1.0             True  "
      ]
     },
     "execution_count": 148,
     "metadata": {},
     "output_type": "execute_result"
    }
   ],
   "source": [
    "df_churn.head()"
   ]
  },
  {
   "cell_type": "code",
   "execution_count": 149,
   "metadata": {},
   "outputs": [],
   "source": [
    "df_churn_train,df_churn_test = train_test_split(df_churn,test_size=0.33, random_state=42)"
   ]
  },
  {
   "cell_type": "code",
   "execution_count": 150,
   "metadata": {},
   "outputs": [
    {
     "name": "stdout",
     "output_type": "stream",
     "text": [
      "Optimization terminated successfully.\n",
      "         Current function value: 0.427502\n",
      "         Iterations 7\n"
     ]
    },
    {
     "data": {
      "text/html": [
       "<table class=\"simpletable\">\n",
       "<caption>Logit Regression Results</caption>\n",
       "<tr>\n",
       "  <th>Dep. Variable:</th>       <td>Churn_id</td>     <th>  No. Observations:  </th>   <td>  4718</td>  \n",
       "</tr>\n",
       "<tr>\n",
       "  <th>Model:</th>                 <td>Logit</td>      <th>  Df Residuals:      </th>   <td>  4711</td>  \n",
       "</tr>\n",
       "<tr>\n",
       "  <th>Method:</th>                 <td>MLE</td>       <th>  Df Model:          </th>   <td>     6</td>  \n",
       "</tr>\n",
       "<tr>\n",
       "  <th>Date:</th>            <td>Mon, 23 Nov 2020</td> <th>  Pseudo R-squ.:     </th>   <td>0.2532</td>  \n",
       "</tr>\n",
       "<tr>\n",
       "  <th>Time:</th>                <td>19:18:27</td>     <th>  Log-Likelihood:    </th>  <td> -2017.0</td> \n",
       "</tr>\n",
       "<tr>\n",
       "  <th>converged:</th>             <td>True</td>       <th>  LL-Null:           </th>  <td> -2700.9</td> \n",
       "</tr>\n",
       "<tr>\n",
       "  <th>Covariance Type:</th>     <td>nonrobust</td>    <th>  LLR p-value:       </th> <td>2.222e-292</td>\n",
       "</tr>\n",
       "</table>\n",
       "<table class=\"simpletable\">\n",
       "<tr>\n",
       "                  <td></td>                     <th>coef</th>     <th>std err</th>      <th>z</th>      <th>P>|z|</th>  <th>[0.025</th>    <th>0.975]</th>  \n",
       "</tr>\n",
       "<tr>\n",
       "  <th>Intercept</th>                         <td>   -0.5812</td> <td>    0.197</td> <td>   -2.944</td> <td> 0.003</td> <td>   -0.968</td> <td>   -0.194</td>\n",
       "</tr>\n",
       "<tr>\n",
       "  <th>C(InternetService)[T.Fiber optic]</th> <td>    1.2981</td> <td>    0.152</td> <td>    8.537</td> <td> 0.000</td> <td>    1.000</td> <td>    1.596</td>\n",
       "</tr>\n",
       "<tr>\n",
       "  <th>C(InternetService)[T.No]</th>          <td>   -1.1204</td> <td>    0.181</td> <td>   -6.177</td> <td> 0.000</td> <td>   -1.476</td> <td>   -0.765</td>\n",
       "</tr>\n",
       "<tr>\n",
       "  <th>C(PaperlessBilling)[T.Yes]</th>        <td>    0.4632</td> <td>    0.089</td> <td>    5.230</td> <td> 0.000</td> <td>    0.290</td> <td>    0.637</td>\n",
       "</tr>\n",
       "<tr>\n",
       "  <th>C(ElectronicCheck)[T.True]</th>        <td>    0.5057</td> <td>    0.083</td> <td>    6.105</td> <td> 0.000</td> <td>    0.343</td> <td>    0.668</td>\n",
       "</tr>\n",
       "<tr>\n",
       "  <th>tenure</th>                            <td>   -0.0441</td> <td>    0.002</td> <td>  -19.581</td> <td> 0.000</td> <td>   -0.049</td> <td>   -0.040</td>\n",
       "</tr>\n",
       "<tr>\n",
       "  <th>MonthlyCharges</th>                    <td>   -0.0042</td> <td>    0.004</td> <td>   -1.149</td> <td> 0.251</td> <td>   -0.011</td> <td>    0.003</td>\n",
       "</tr>\n",
       "</table>"
      ],
      "text/plain": [
       "<class 'statsmodels.iolib.summary.Summary'>\n",
       "\"\"\"\n",
       "                           Logit Regression Results                           \n",
       "==============================================================================\n",
       "Dep. Variable:               Churn_id   No. Observations:                 4718\n",
       "Model:                          Logit   Df Residuals:                     4711\n",
       "Method:                           MLE   Df Model:                            6\n",
       "Date:                Mon, 23 Nov 2020   Pseudo R-squ.:                  0.2532\n",
       "Time:                        19:18:27   Log-Likelihood:                -2017.0\n",
       "converged:                       True   LL-Null:                       -2700.9\n",
       "Covariance Type:            nonrobust   LLR p-value:                2.222e-292\n",
       "=====================================================================================================\n",
       "                                        coef    std err          z      P>|z|      [0.025      0.975]\n",
       "-----------------------------------------------------------------------------------------------------\n",
       "Intercept                            -0.5812      0.197     -2.944      0.003      -0.968      -0.194\n",
       "C(InternetService)[T.Fiber optic]     1.2981      0.152      8.537      0.000       1.000       1.596\n",
       "C(InternetService)[T.No]             -1.1204      0.181     -6.177      0.000      -1.476      -0.765\n",
       "C(PaperlessBilling)[T.Yes]            0.4632      0.089      5.230      0.000       0.290       0.637\n",
       "C(ElectronicCheck)[T.True]            0.5057      0.083      6.105      0.000       0.343       0.668\n",
       "tenure                               -0.0441      0.002    -19.581      0.000      -0.049      -0.040\n",
       "MonthlyCharges                       -0.0042      0.004     -1.149      0.251      -0.011       0.003\n",
       "=====================================================================================================\n",
       "\"\"\""
      ]
     },
     "execution_count": 150,
     "metadata": {},
     "output_type": "execute_result"
    }
   ],
   "source": [
    "churn_model=logit(formula=\"Churn_id ~ tenure+C(InternetService)+C(PaperlessBilling)+MonthlyCharges+C(ElectronicCheck)\",\n",
    "                  data=df_churn_train).fit()\n",
    "churn_model.summary()"
   ]
  },
  {
   "cell_type": "code",
   "execution_count": null,
   "metadata": {},
   "outputs": [],
   "source": []
  }
 ],
 "metadata": {
  "kernelspec": {
   "display_name": "Python 3",
   "language": "python",
   "name": "python3"
  },
  "language_info": {
   "codemirror_mode": {
    "name": "ipython",
    "version": 3
   },
   "file_extension": ".py",
   "mimetype": "text/x-python",
   "name": "python",
   "nbconvert_exporter": "python",
   "pygments_lexer": "ipython3",
   "version": "3.6.9"
  }
 },
 "nbformat": 4,
 "nbformat_minor": 2
}
